{
 "cells": [
  {
   "cell_type": "code",
   "execution_count": 26,
   "metadata": {},
   "outputs": [
    {
     "name": "stdout",
     "output_type": "stream",
     "text": [
      "Enter the value of side 1: 5\n",
      "Enter the value of side 2: 5\n",
      "Enter the value of side 3: 5\n",
      "Area of the triangle 10.825317547305483\n"
     ]
    }
   ],
   "source": [
    "#Area of a Triange taking inputs of all 3 sides\n",
    "class triangle:\n",
    "    def area(TRG):\n",
    "        s=(TRG.side1+TRG.side2+TRG.side3)/2\n",
    "        return (s*(s-TRG.side1)*(s-TRG.side2)*(s-TRG.side3))**0.5\n",
    "    \n",
    "    def __init__(TRG,side1,side2,side3):\n",
    "        TRG.side1=side1\n",
    "        TRG.side2=side2\n",
    "        TRG.side3=side3\n",
    "    \n",
    "a=float(input('Enter the value of side 1: '))\n",
    "b=float(input('Enter the value of side 2: '))\n",
    "c=float(input('Enter the value of side 3: '))\n",
    "print('Area of the triangle',triangle(a,b,c).area())"
   ]
  },
  {
   "cell_type": "code",
   "execution_count": 18,
   "metadata": {},
   "outputs": [
    {
     "data": {
      "text/plain": [
       "['haJLDHjldhaLJDHjlhjlDH', 'fjkfjk;fj;kfj;kfj;KFJ', 'fjfkjafja;kfjak;kj']"
      ]
     },
     "execution_count": 18,
     "metadata": {},
     "output_type": "execute_result"
    }
   ],
   "source": [
    "# A function that takes a list of words and an integer n and returns the list of words that are longer than n\n",
    "def filter_long_words(string,integer):\n",
    "    wordlist=[]\n",
    "    for i in string.split():\n",
    "        if len(i)>integer:\n",
    "            wordlist.append(i)\n",
    "    return wordlist\n",
    "filter_long_words('haJLDHjldhaLJDHjlhjlDH fjkfjk;fj;kfj;kfj;KFJ fjfkjafja;kfjak;kj UY yty QW',7)"
   ]
  },
  {
   "cell_type": "code",
   "execution_count": 36,
   "metadata": {},
   "outputs": [
    {
     "name": "stdout",
     "output_type": "stream",
     "text": [
      "List of words:['Subhadarshi', 'Sengupta', 'Sarbajit', 'Bhutum', 'Baban']\n",
      "List of wordlength:[11, 8, 8, 6, 5]\n"
     ]
    }
   ],
   "source": [
    "#Write a program that maps a list of words into a list of integers representing the lengths of the corresponding words.\n",
    " \n",
    "listOfWords = ['Subhadarshi','Sengupta','Sarbajit','Bhutum','Baban']\n",
    " \n",
    "listOfInts = []\n",
    " \n",
    "for i in range(len(listOfWords)):\n",
    "    listOfInts.append(len(listOfWords[i]))\n",
    "print(\"List of words:\"+str(listOfWords))    \n",
    "print (\"List of wordlength:\"+str(listOfInts))"
   ]
  },
  {
   "cell_type": "code",
   "execution_count": 49,
   "metadata": {},
   "outputs": [
    {
     "name": "stdout",
     "output_type": "stream",
     "text": [
      "Enter Char (Length 1) : T\n",
      " FALSE : T is not a vowel\n"
     ]
    }
   ],
   "source": [
    "def checkvowel(s):\n",
    "    if len(s)!=1:\n",
    "        print(\"Only String of length 1 is allowed\")\n",
    "        return None\n",
    "\n",
    "    if s in \"aeiouAEIOU\":\n",
    "        return True\n",
    "    else:\n",
    "        return False\n",
    "\n",
    "def main():\n",
    "    s = input(\"Enter Char (Length 1) : \")\n",
    "\n",
    "    isV = checkvowel(s)\n",
    "\n",
    "    if isV==True:\n",
    "        print(\"TRUE : %s is a vowel\" % s)\n",
    "    elif isV==False:\n",
    "        print(\" FALSE : %s is not a vowel\" % s)\n",
    "    \n",
    "main()"
   ]
  },
  {
   "cell_type": "code",
   "execution_count": null,
   "metadata": {},
   "outputs": [],
   "source": []
  }
 ],
 "metadata": {
  "kernelspec": {
   "display_name": "Python 3",
   "language": "python",
   "name": "python3"
  },
  "language_info": {
   "codemirror_mode": {
    "name": "ipython",
    "version": 3
   },
   "file_extension": ".py",
   "mimetype": "text/x-python",
   "name": "python",
   "nbconvert_exporter": "python",
   "pygments_lexer": "ipython3",
   "version": "3.6.5"
  }
 },
 "nbformat": 4,
 "nbformat_minor": 2
}
